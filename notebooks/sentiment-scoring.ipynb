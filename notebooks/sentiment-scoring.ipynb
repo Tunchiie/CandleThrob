{
 "cells": [
  {
   "cell_type": "code",
   "execution_count": null,
   "metadata": {},
   "outputs": [],
   "source": [
    "import pandas as pd\n",
    "import sys\n",
    "sys.path.append(\"../scripts\")\n",
    "from db_utils import read_query_as_df"
   ]
  },
  {
   "cell_type": "code",
   "execution_count": 2,
   "metadata": {},
   "outputs": [],
   "source": [
    "query = \"\"\"\n",
    "SELECT \n",
    "    s.stock,\n",
    "    s.date,\n",
    "    s.close,\n",
    "    s.volume,\n",
    "    a.polarity,\n",
    "    a.subjectivity\n",
    "FROM stock_prices s\n",
    "JOIN (\n",
    "    SELECT stock, date, \n",
    "           AVG(polarity) AS polarity,\n",
    "           AVG(subjectivity) AS subjectivity\n",
    "    FROM sentiment_scores\n",
    "    GROUP BY stock, date\n",
    ") a\n",
    "ON s.stock = a.stock AND s.date = a.date\n",
    "ORDER BY s.stock, s.date;\n",
    "\"\"\""
   ]
  },
  {
   "cell_type": "code",
   "execution_count": 3,
   "metadata": {},
   "outputs": [],
   "source": [
    "stock_df = read_query_as_df(\"SELECT * FROM stock_prices\")\n",
    "sentiment_df = read_query_as_df(\"SELECT * FROM sentiment_scores\")\n",
    "stock_df['date'] = pd.to_datetime(stock_df['date']).dt.date\n",
    "sentiment_df['date'] = pd.to_datetime(sentiment_df['date']).dt.date\n",
    "\n"
   ]
  },
  {
   "cell_type": "code",
   "execution_count": 4,
   "metadata": {},
   "outputs": [
    {
     "data": {
      "text/html": [
       "<div>\n",
       "<style scoped>\n",
       "    .dataframe tbody tr th:only-of-type {\n",
       "        vertical-align: middle;\n",
       "    }\n",
       "\n",
       "    .dataframe tbody tr th {\n",
       "        vertical-align: top;\n",
       "    }\n",
       "\n",
       "    .dataframe thead th {\n",
       "        text-align: right;\n",
       "    }\n",
       "</style>\n",
       "<table border=\"1\" class=\"dataframe\">\n",
       "  <thead>\n",
       "    <tr style=\"text-align: right;\">\n",
       "      <th></th>\n",
       "      <th>stock</th>\n",
       "      <th>date</th>\n",
       "      <th>polarity</th>\n",
       "      <th>subjectivity</th>\n",
       "    </tr>\n",
       "  </thead>\n",
       "  <tbody>\n",
       "    <tr>\n",
       "      <th>0</th>\n",
       "      <td>AAPL</td>\n",
       "      <td>2017-01-31</td>\n",
       "      <td>0.000000</td>\n",
       "      <td>0.0</td>\n",
       "    </tr>\n",
       "    <tr>\n",
       "      <th>1</th>\n",
       "      <td>AAPL</td>\n",
       "      <td>2017-05-03</td>\n",
       "      <td>0.000000</td>\n",
       "      <td>0.0</td>\n",
       "    </tr>\n",
       "    <tr>\n",
       "      <th>2</th>\n",
       "      <td>AAPL</td>\n",
       "      <td>2017-05-23</td>\n",
       "      <td>0.000000</td>\n",
       "      <td>0.3</td>\n",
       "    </tr>\n",
       "    <tr>\n",
       "      <th>3</th>\n",
       "      <td>AAPL</td>\n",
       "      <td>2017-07-29</td>\n",
       "      <td>0.500000</td>\n",
       "      <td>1.0</td>\n",
       "    </tr>\n",
       "    <tr>\n",
       "      <th>4</th>\n",
       "      <td>AAPL</td>\n",
       "      <td>2018-02-01</td>\n",
       "      <td>0.216667</td>\n",
       "      <td>0.4</td>\n",
       "    </tr>\n",
       "  </tbody>\n",
       "</table>\n",
       "</div>"
      ],
      "text/plain": [
       "  stock        date  polarity  subjectivity\n",
       "0  AAPL  2017-01-31  0.000000           0.0\n",
       "1  AAPL  2017-05-03  0.000000           0.0\n",
       "2  AAPL  2017-05-23  0.000000           0.3\n",
       "3  AAPL  2017-07-29  0.500000           1.0\n",
       "4  AAPL  2018-02-01  0.216667           0.4"
      ]
     },
     "execution_count": 4,
     "metadata": {},
     "output_type": "execute_result"
    }
   ],
   "source": [
    "sentiment_agg = sentiment_df.groupby(['stock', 'date']).agg({\n",
    "    'polarity': 'mean',\n",
    "    'subjectivity': 'mean'\n",
    "}).reset_index()\n",
    "sentiment_agg.head()"
   ]
  },
  {
   "cell_type": "code",
   "execution_count": 5,
   "metadata": {},
   "outputs": [],
   "source": [
    "merged_df = pd.merge(stock_df, sentiment_agg, on=['stock', 'date'], how='inner')"
   ]
  },
  {
   "cell_type": "code",
   "execution_count": 6,
   "metadata": {},
   "outputs": [
    {
     "data": {
      "text/plain": [
       "(60, 9)"
      ]
     },
     "execution_count": 6,
     "metadata": {},
     "output_type": "execute_result"
    }
   ],
   "source": [
    "merged_df.shape"
   ]
  },
  {
   "cell_type": "code",
   "execution_count": 7,
   "metadata": {},
   "outputs": [],
   "source": [
    "merged_df['daily_return'] = merged_df.groupby('stock')['close'].pct_change()"
   ]
  },
  {
   "cell_type": "code",
   "execution_count": 8,
   "metadata": {},
   "outputs": [],
   "source": [
    "merged_df['sentiment_spike'] = merged_df['polarity'] > 0.5\n",
    "merged_df['neg_sentiment'] = merged_df['polarity'] < -0.3"
   ]
  },
  {
   "cell_type": "code",
   "execution_count": 9,
   "metadata": {},
   "outputs": [],
   "source": [
    "merged_df['vol_spike'] = merged_df.groupby('stock')['volume'].transform(\n",
    "    lambda x: x > x.rolling(7).mean() * 1.5\n",
    ")"
   ]
  },
  {
   "cell_type": "code",
   "execution_count": 10,
   "metadata": {},
   "outputs": [],
   "source": [
    "merged_df['day_of_week'] = pd.to_datetime(merged_df['date']).dt.day_name()"
   ]
  },
  {
   "cell_type": "code",
   "execution_count": 11,
   "metadata": {},
   "outputs": [],
   "source": [
    "merged_df['sentiment_label'] = merged_df['polarity'].apply(lambda x: \"Positive\" if x > 0.05 else \"Negative\" if x < -0.05 else \"Neutral\")\n"
   ]
  },
  {
   "cell_type": "code",
   "execution_count": 12,
   "metadata": {},
   "outputs": [],
   "source": [
    "def detect_spike(group):\n",
    "    # Exclude 'stock' column from being recalculated if it's included\n",
    "    group = group.copy()\n",
    "    \n",
    "    group['rolling_mean'] = group['polarity'].rolling(window=3, min_periods=2).mean()\n",
    "    group['rolling_std'] = group['polarity'].rolling(window=3, min_periods=2).std()\n",
    "    group['sentiment_spike'] = (abs(group['polarity'] - group['rolling_mean']) > 0.6 * group['rolling_std'])\n",
    "    return group\n",
    "\n",
    "# Apply the function to each ticker\n",
    "merged_df = merged_df.sort_values(['stock', 'date'])  # just in case\n",
    "grouped = [detect_spike(group) for _, group in merged_df.groupby('stock')]\n",
    "merged_df = pd.concat(grouped).reset_index(drop=True)"
   ]
  },
  {
   "cell_type": "code",
   "execution_count": 13,
   "metadata": {},
   "outputs": [
    {
     "name": "stdout",
     "output_type": "stream",
     "text": [
      "                 count      mean       std       min       25%       50%  \\\n",
      "spike_direction                                                            \n",
      "Negative Spike    11.0  0.025738  0.050720 -0.038973  0.005469  0.014446   \n",
      "None              26.0  0.000030  0.028133 -0.064539 -0.007848  0.002950   \n",
      "Positive Spike    18.0  0.010249  0.031816 -0.053100 -0.012256  0.001619   \n",
      "\n",
      "                      75%       max  \n",
      "spike_direction                      \n",
      "Negative Spike   0.031724  0.164009  \n",
      "None             0.013208  0.059436  \n",
      "Positive Spike   0.030569  0.073456  \n"
     ]
    }
   ],
   "source": [
    "merged_df['spike_direction'] = merged_df.apply(\n",
    "    lambda row: 'Positive Spike' if row['sentiment_spike'] and row['polarity'] > 0 \n",
    "    else 'Negative Spike' if row['sentiment_spike'] and row['polarity'] < 0 \n",
    "    else 'None', axis=1\n",
    ")\n",
    "\n",
    "print(merged_df.groupby('spike_direction')['daily_return'].describe())"
   ]
  },
  {
   "cell_type": "code",
   "execution_count": 14,
   "metadata": {},
   "outputs": [],
   "source": [
    "merged_df['rolling_sentiment'] = merged_df.groupby('stock')['polarity'].transform(lambda x: x.rolling(7).mean())"
   ]
  },
  {
   "cell_type": "code",
   "execution_count": 15,
   "metadata": {},
   "outputs": [],
   "source": [
    "def label_spike(row):\n",
    "    if row['sentiment_spike'] and row['vol_spike']:\n",
    "        return \"Both\"\n",
    "    elif row['sentiment_spike']:\n",
    "        return \"Sentiment\"\n",
    "    elif row['vol_spike']:\n",
    "        return \"Volume\"\n",
    "    else:\n",
    "        return \"None\"\n",
    "\n",
    "merged_df['spike_type'] = merged_df.apply(label_spike, axis=1)"
   ]
  },
  {
   "cell_type": "code",
   "execution_count": 16,
   "metadata": {},
   "outputs": [],
   "source": [
    "merged_df.to_csv(\"candlethrob_dataset.csv\", index=False)"
   ]
  }
 ],
 "metadata": {
  "kernelspec": {
   "display_name": "Python 3",
   "language": "python",
   "name": "python3"
  },
  "language_info": {
   "codemirror_mode": {
    "name": "ipython",
    "version": 3
   },
   "file_extension": ".py",
   "mimetype": "text/x-python",
   "name": "python",
   "nbconvert_exporter": "python",
   "pygments_lexer": "ipython3",
   "version": "3.13.2"
  }
 },
 "nbformat": 4,
 "nbformat_minor": 2
}
