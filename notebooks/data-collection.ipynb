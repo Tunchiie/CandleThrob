{
 "cells": [
  {
   "cell_type": "code",
   "execution_count": 1,
   "metadata": {},
   "outputs": [],
   "source": [
    "import pandas as pd\n",
    "import yfinance as yf\n",
    "import sys\n",
    "sys.path.append(\"../scripts\")\n",
    "from db_utils import insert_dataframe, fetch_one"
   ]
  },
  {
   "cell_type": "code",
   "execution_count": 2,
   "metadata": {},
   "outputs": [],
   "source": [
    "tickers = [\n",
    "    \"AAPL\",  # Apple Inc.,\n",
    "    \"MSFT\",  # Microsoft Corporation,\n",
    "    \"GOOGL\",  # Alphabet Inc. Class A\n",
    "    \"AMZN\",  # Amazon.com Inc.,\n",
    "    \"NVDA\"  # NVIDIA Corporation\n",
    "]"
   ]
  },
  {
   "cell_type": "code",
   "execution_count": 3,
   "metadata": {},
   "outputs": [
    {
     "name": "stdout",
     "output_type": "stream",
     "text": [
      "YF.download() has changed argument auto_adjust default to True\n"
     ]
    },
    {
     "name": "stderr",
     "output_type": "stream",
     "text": [
      "[*********************100%***********************]  1 of 1 completed\n",
      "[*********************100%***********************]  1 of 1 completed\n",
      "[*********************100%***********************]  1 of 1 completed\n",
      "[*********************100%***********************]  1 of 1 completed\n",
      "[*********************100%***********************]  1 of 1 completed\n"
     ]
    }
   ],
   "source": [
    "data = {}\n",
    "for ticker in tickers:\n",
    "    df = yf.download(ticker, start=\"2025-02-01\", end=\"2025-04-01\")\n",
    "    df.reset_index(inplace=True)\n",
    "\n",
    "    df.columns = [col[0] if isinstance(col, tuple) else col for col in df.columns]\n",
    "\n",
    "    df['stock'] = ticker\n",
    "    data[ticker] = df\n",
    "\n",
    "    df.rename(columns={\n",
    "        'Date': 'date',\n",
    "        'Open': 'open',\n",
    "        'High': 'high',\n",
    "        'Low': 'low',\n",
    "        'Close': 'close',\n",
    "        'Volume': 'volume'\n",
    "    }, inplace=True)"
   ]
  },
  {
   "cell_type": "code",
   "execution_count": 4,
   "metadata": {},
   "outputs": [
    {
     "data": {
      "text/html": [
       "<div>\n",
       "<style scoped>\n",
       "    .dataframe tbody tr th:only-of-type {\n",
       "        vertical-align: middle;\n",
       "    }\n",
       "\n",
       "    .dataframe tbody tr th {\n",
       "        vertical-align: top;\n",
       "    }\n",
       "\n",
       "    .dataframe thead th {\n",
       "        text-align: right;\n",
       "    }\n",
       "</style>\n",
       "<table border=\"1\" class=\"dataframe\">\n",
       "  <thead>\n",
       "    <tr style=\"text-align: right;\">\n",
       "      <th></th>\n",
       "      <th>date</th>\n",
       "      <th>close</th>\n",
       "      <th>high</th>\n",
       "      <th>low</th>\n",
       "      <th>open</th>\n",
       "      <th>volume</th>\n",
       "      <th>stock</th>\n",
       "    </tr>\n",
       "  </thead>\n",
       "  <tbody>\n",
       "    <tr>\n",
       "      <th>0</th>\n",
       "      <td>2025-02-03</td>\n",
       "      <td>116.649277</td>\n",
       "      <td>118.559097</td>\n",
       "      <td>112.999611</td>\n",
       "      <td>114.739449</td>\n",
       "      <td>371235700</td>\n",
       "      <td>NVDA</td>\n",
       "    </tr>\n",
       "    <tr>\n",
       "      <th>1</th>\n",
       "      <td>2025-02-04</td>\n",
       "      <td>118.639091</td>\n",
       "      <td>121.188852</td>\n",
       "      <td>116.689266</td>\n",
       "      <td>116.949244</td>\n",
       "      <td>256550000</td>\n",
       "      <td>NVDA</td>\n",
       "    </tr>\n",
       "    <tr>\n",
       "      <th>2</th>\n",
       "      <td>2025-02-05</td>\n",
       "      <td>124.818520</td>\n",
       "      <td>124.988502</td>\n",
       "      <td>120.748894</td>\n",
       "      <td>121.748802</td>\n",
       "      <td>262230800</td>\n",
       "      <td>NVDA</td>\n",
       "    </tr>\n",
       "    <tr>\n",
       "      <th>3</th>\n",
       "      <td>2025-02-06</td>\n",
       "      <td>128.668152</td>\n",
       "      <td>128.758155</td>\n",
       "      <td>125.198478</td>\n",
       "      <td>127.408273</td>\n",
       "      <td>251483600</td>\n",
       "      <td>NVDA</td>\n",
       "    </tr>\n",
       "    <tr>\n",
       "      <th>4</th>\n",
       "      <td>2025-02-07</td>\n",
       "      <td>129.828049</td>\n",
       "      <td>130.357999</td>\n",
       "      <td>124.988498</td>\n",
       "      <td>129.208111</td>\n",
       "      <td>228186300</td>\n",
       "      <td>NVDA</td>\n",
       "    </tr>\n",
       "  </tbody>\n",
       "</table>\n",
       "</div>"
      ],
      "text/plain": [
       "        date       close        high         low        open     volume stock\n",
       "0 2025-02-03  116.649277  118.559097  112.999611  114.739449  371235700  NVDA\n",
       "1 2025-02-04  118.639091  121.188852  116.689266  116.949244  256550000  NVDA\n",
       "2 2025-02-05  124.818520  124.988502  120.748894  121.748802  262230800  NVDA\n",
       "3 2025-02-06  128.668152  128.758155  125.198478  127.408273  251483600  NVDA\n",
       "4 2025-02-07  129.828049  130.357999  124.988498  129.208111  228186300  NVDA"
      ]
     },
     "execution_count": 4,
     "metadata": {},
     "output_type": "execute_result"
    }
   ],
   "source": [
    "data['NVDA'].head()"
   ]
  },
  {
   "cell_type": "code",
   "execution_count": 5,
   "metadata": {},
   "outputs": [],
   "source": [
    "data = pd.concat(data.values(), ignore_index=True)"
   ]
  },
  {
   "cell_type": "code",
   "execution_count": 6,
   "metadata": {},
   "outputs": [
    {
     "data": {
      "text/plain": [
       "array(['AAPL', 'MSFT', 'GOOGL', 'AMZN', 'NVDA'], dtype=object)"
      ]
     },
     "execution_count": 6,
     "metadata": {},
     "output_type": "execute_result"
    }
   ],
   "source": [
    "data.stock.unique()"
   ]
  },
  {
   "cell_type": "code",
   "execution_count": 7,
   "metadata": {},
   "outputs": [
    {
     "name": "stdout",
     "output_type": "stream",
     "text": [
      "✅ Inserted 200 rows into 'stock_prices'.\n"
     ]
    }
   ],
   "source": [
    "insert_dataframe(data, 'stock_prices')"
   ]
  },
  {
   "cell_type": "code",
   "execution_count": 8,
   "metadata": {},
   "outputs": [
    {
     "name": "stdout",
     "output_type": "stream",
     "text": [
      "Rows inserted: ('2025-02-03 00:00:00', 227.75958251953125, 231.5753945205246, 225.45212191586603, 229.73741895869952, 73063300, 'AAPL')\n"
     ]
    }
   ],
   "source": [
    "print(\"Rows inserted:\", fetch_one(\"SELECT * FROM stock_prices;\"))"
   ]
  }
 ],
 "metadata": {
  "kernelspec": {
   "display_name": "Python 3",
   "language": "python",
   "name": "python3"
  },
  "language_info": {
   "codemirror_mode": {
    "name": "ipython",
    "version": 3
   },
   "file_extension": ".py",
   "mimetype": "text/x-python",
   "name": "python",
   "nbconvert_exporter": "python",
   "pygments_lexer": "ipython3",
   "version": "3.13.2"
  }
 },
 "nbformat": 4,
 "nbformat_minor": 2
}
