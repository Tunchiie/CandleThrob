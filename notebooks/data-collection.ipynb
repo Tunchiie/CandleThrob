{
 "cells": [
  {
   "cell_type": "code",
   "execution_count": 1,
   "metadata": {},
   "outputs": [],
   "source": [
    "import pandas as pd\n",
    "import yfinance as yf\n",
    "import sys\n",
    "sys.path.append(\"../scripts\")\n",
    "from db_utils import insert_dataframe, fetch_one"
   ]
  },
  {
   "cell_type": "code",
   "execution_count": 2,
   "metadata": {},
   "outputs": [],
   "source": [
    "tickers = [\n",
    "    \"AAPL\",  # Apple Inc.,\n",
    "    \"MSFT\",  # Microsoft Corporation,\n",
    "    \"GOOGL\",  # Alphabet Inc. Class A\n",
    "    \"AMZN\",  # Amazon.com Inc.,\n",
    "    \"NVDA\"  # NVIDIA Corporation\n",
    "]"
   ]
  },
  {
   "cell_type": "code",
   "execution_count": 3,
   "metadata": {},
   "outputs": [
    {
     "name": "stdout",
     "output_type": "stream",
     "text": [
      "YF.download() has changed argument auto_adjust default to True\n"
     ]
    },
    {
     "name": "stderr",
     "output_type": "stream",
     "text": [
      "[*********************100%***********************]  1 of 1 completed\n",
      "[*********************100%***********************]  1 of 1 completed\n",
      "[*********************100%***********************]  1 of 1 completed\n",
      "[*********************100%***********************]  1 of 1 completed\n",
      "[*********************100%***********************]  1 of 1 completed\n"
     ]
    }
   ],
   "source": [
    "# Download historical data for the tickers\n",
    "data = {}\n",
    "for ticker in tickers:\n",
    "    # Fetch historical data for the last 5 years\n",
    "    df = yf.download(ticker, start=\"2024-02-01\", end=\"2024-04-01\")\n",
    "    # Store the adjusted close prices\n",
    "    df.reset_index(inplace=True)\n",
    "\n",
    "    # Rename columns to remove multi-index\n",
    "    df.columns = [col[0] if isinstance(col, tuple) else col for col in df.columns]\n",
    "\n",
    "    df['stock'] = ticker\n",
    "    data[ticker] = df\n",
    "\n",
    "    df.rename(columns={\n",
    "        'Date': 'date',\n",
    "        'Open': 'open',\n",
    "        'High': 'high',\n",
    "        'Low': 'low',\n",
    "        'Close': 'close',\n",
    "        'Volume': 'volume'\n",
    "    }, inplace=True)"
   ]
  },
  {
   "cell_type": "code",
   "execution_count": 4,
   "metadata": {},
   "outputs": [
    {
     "data": {
      "text/html": [
       "<div>\n",
       "<style scoped>\n",
       "    .dataframe tbody tr th:only-of-type {\n",
       "        vertical-align: middle;\n",
       "    }\n",
       "\n",
       "    .dataframe tbody tr th {\n",
       "        vertical-align: top;\n",
       "    }\n",
       "\n",
       "    .dataframe thead th {\n",
       "        text-align: right;\n",
       "    }\n",
       "</style>\n",
       "<table border=\"1\" class=\"dataframe\">\n",
       "  <thead>\n",
       "    <tr style=\"text-align: right;\">\n",
       "      <th></th>\n",
       "      <th>date</th>\n",
       "      <th>close</th>\n",
       "      <th>high</th>\n",
       "      <th>low</th>\n",
       "      <th>open</th>\n",
       "      <th>volume</th>\n",
       "      <th>stock</th>\n",
       "    </tr>\n",
       "  </thead>\n",
       "  <tbody>\n",
       "    <tr>\n",
       "      <th>0</th>\n",
       "      <td>2024-02-01</td>\n",
       "      <td>63.003342</td>\n",
       "      <td>63.167282</td>\n",
       "      <td>61.626860</td>\n",
       "      <td>62.076688</td>\n",
       "      <td>369146000</td>\n",
       "      <td>NVDA</td>\n",
       "    </tr>\n",
       "    <tr>\n",
       "      <th>1</th>\n",
       "      <td>2024-02-02</td>\n",
       "      <td>66.135162</td>\n",
       "      <td>66.574992</td>\n",
       "      <td>63.666085</td>\n",
       "      <td>63.949979</td>\n",
       "      <td>476578000</td>\n",
       "      <td>NVDA</td>\n",
       "    </tr>\n",
       "    <tr>\n",
       "      <th>2</th>\n",
       "      <td>2024-02-05</td>\n",
       "      <td>69.305977</td>\n",
       "      <td>69.470916</td>\n",
       "      <td>67.179776</td>\n",
       "      <td>68.199390</td>\n",
       "      <td>680078000</td>\n",
       "      <td>NVDA</td>\n",
       "    </tr>\n",
       "    <tr>\n",
       "      <th>3</th>\n",
       "      <td>2024-02-06</td>\n",
       "      <td>68.197395</td>\n",
       "      <td>69.727819</td>\n",
       "      <td>66.275121</td>\n",
       "      <td>69.603865</td>\n",
       "      <td>683111000</td>\n",
       "      <td>NVDA</td>\n",
       "    </tr>\n",
       "    <tr>\n",
       "      <th>4</th>\n",
       "      <td>2024-02-07</td>\n",
       "      <td>70.072678</td>\n",
       "      <td>70.193634</td>\n",
       "      <td>67.574615</td>\n",
       "      <td>68.293347</td>\n",
       "      <td>495575000</td>\n",
       "      <td>NVDA</td>\n",
       "    </tr>\n",
       "  </tbody>\n",
       "</table>\n",
       "</div>"
      ],
      "text/plain": [
       "        date      close       high        low       open     volume stock\n",
       "0 2024-02-01  63.003342  63.167282  61.626860  62.076688  369146000  NVDA\n",
       "1 2024-02-02  66.135162  66.574992  63.666085  63.949979  476578000  NVDA\n",
       "2 2024-02-05  69.305977  69.470916  67.179776  68.199390  680078000  NVDA\n",
       "3 2024-02-06  68.197395  69.727819  66.275121  69.603865  683111000  NVDA\n",
       "4 2024-02-07  70.072678  70.193634  67.574615  68.293347  495575000  NVDA"
      ]
     },
     "execution_count": 4,
     "metadata": {},
     "output_type": "execute_result"
    }
   ],
   "source": [
    "data['NVDA'].head()"
   ]
  },
  {
   "cell_type": "code",
   "execution_count": 5,
   "metadata": {},
   "outputs": [],
   "source": [
    "# Concatenate all dataframes into a single dataframe\n",
    "data = pd.concat(data.values(), ignore_index=True)"
   ]
  },
  {
   "cell_type": "code",
   "execution_count": 6,
   "metadata": {},
   "outputs": [
    {
     "data": {
      "text/html": [
       "<div>\n",
       "<style scoped>\n",
       "    .dataframe tbody tr th:only-of-type {\n",
       "        vertical-align: middle;\n",
       "    }\n",
       "\n",
       "    .dataframe tbody tr th {\n",
       "        vertical-align: top;\n",
       "    }\n",
       "\n",
       "    .dataframe thead th {\n",
       "        text-align: right;\n",
       "    }\n",
       "</style>\n",
       "<table border=\"1\" class=\"dataframe\">\n",
       "  <thead>\n",
       "    <tr style=\"text-align: right;\">\n",
       "      <th></th>\n",
       "      <th>date</th>\n",
       "      <th>close</th>\n",
       "      <th>high</th>\n",
       "      <th>low</th>\n",
       "      <th>open</th>\n",
       "      <th>volume</th>\n",
       "      <th>stock</th>\n",
       "    </tr>\n",
       "  </thead>\n",
       "  <tbody>\n",
       "    <tr>\n",
       "      <th>0</th>\n",
       "      <td>2024-02-01</td>\n",
       "      <td>185.744797</td>\n",
       "      <td>185.834256</td>\n",
       "      <td>182.722947</td>\n",
       "      <td>182.891930</td>\n",
       "      <td>64885400</td>\n",
       "      <td>AAPL</td>\n",
       "    </tr>\n",
       "    <tr>\n",
       "      <th>1</th>\n",
       "      <td>2024-02-02</td>\n",
       "      <td>184.740845</td>\n",
       "      <td>186.212008</td>\n",
       "      <td>178.180228</td>\n",
       "      <td>178.786588</td>\n",
       "      <td>102518000</td>\n",
       "      <td>AAPL</td>\n",
       "    </tr>\n",
       "    <tr>\n",
       "      <th>2</th>\n",
       "      <td>2024-02-05</td>\n",
       "      <td>186.559906</td>\n",
       "      <td>188.120543</td>\n",
       "      <td>184.730891</td>\n",
       "      <td>187.027102</td>\n",
       "      <td>69668800</td>\n",
       "      <td>AAPL</td>\n",
       "    </tr>\n",
       "    <tr>\n",
       "      <th>3</th>\n",
       "      <td>2024-02-06</td>\n",
       "      <td>188.170258</td>\n",
       "      <td>188.180192</td>\n",
       "      <td>185.655358</td>\n",
       "      <td>185.744817</td>\n",
       "      <td>43490800</td>\n",
       "      <td>AAPL</td>\n",
       "    </tr>\n",
       "    <tr>\n",
       "      <th>4</th>\n",
       "      <td>2024-02-07</td>\n",
       "      <td>188.279602</td>\n",
       "      <td>189.909814</td>\n",
       "      <td>187.484373</td>\n",
       "      <td>189.502257</td>\n",
       "      <td>53439000</td>\n",
       "      <td>AAPL</td>\n",
       "    </tr>\n",
       "  </tbody>\n",
       "</table>\n",
       "</div>"
      ],
      "text/plain": [
       "        date       close        high         low        open     volume stock\n",
       "0 2024-02-01  185.744797  185.834256  182.722947  182.891930   64885400  AAPL\n",
       "1 2024-02-02  184.740845  186.212008  178.180228  178.786588  102518000  AAPL\n",
       "2 2024-02-05  186.559906  188.120543  184.730891  187.027102   69668800  AAPL\n",
       "3 2024-02-06  188.170258  188.180192  185.655358  185.744817   43490800  AAPL\n",
       "4 2024-02-07  188.279602  189.909814  187.484373  189.502257   53439000  AAPL"
      ]
     },
     "execution_count": 6,
     "metadata": {},
     "output_type": "execute_result"
    }
   ],
   "source": [
    "data.head() "
   ]
  },
  {
   "cell_type": "code",
   "execution_count": 7,
   "metadata": {},
   "outputs": [
    {
     "name": "stdout",
     "output_type": "stream",
     "text": [
      "✅ Inserted 200 rows into 'stock_prices'.\n"
     ]
    }
   ],
   "source": [
    "insert_dataframe(data, 'stock_prices')"
   ]
  },
  {
   "cell_type": "code",
   "execution_count": 8,
   "metadata": {},
   "outputs": [
    {
     "name": "stdout",
     "output_type": "stream",
     "text": [
      "Rows inserted: ('2024-02-01 00:00:00', 185.7447967529297, 185.8342559814184, 182.72294652699253, 182.891930125601, 64885400, 'AAPL')\n"
     ]
    }
   ],
   "source": [
    "print(\"Rows inserted:\", fetch_one(\"SELECT * FROM stock_prices;\"))"
   ]
  }
 ],
 "metadata": {
  "kernelspec": {
   "display_name": "Python 3",
   "language": "python",
   "name": "python3"
  },
  "language_info": {
   "codemirror_mode": {
    "name": "ipython",
    "version": 3
   },
   "file_extension": ".py",
   "mimetype": "text/x-python",
   "name": "python",
   "nbconvert_exporter": "python",
   "pygments_lexer": "ipython3",
   "version": "3.13.2"
  }
 },
 "nbformat": 4,
 "nbformat_minor": 2
}
